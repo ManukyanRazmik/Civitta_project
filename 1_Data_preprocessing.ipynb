{
 "cells": [
  {
   "cell_type": "code",
   "execution_count": 1,
   "id": "5887bdba-6a3a-4f5f-bbc8-a91bdcd2b04d",
   "metadata": {},
   "outputs": [],
   "source": [
    "# Importing necessary libraries\n",
    "\n",
    "import numpy as np\n",
    "import pandas as pd"
   ]
  },
  {
   "cell_type": "code",
   "execution_count": 2,
   "id": "0ba4b197-d1ac-4ed9-889e-fcaccd6c32a3",
   "metadata": {},
   "outputs": [],
   "source": [
    "# Reading data\n",
    "\n",
    "client_data = pd.read_excel('Source_data/client_information.xlsx', sheet_name='data')\n",
    "loan_data = pd.read_excel('Source_data/loan_information.xlsx', sheet_name='data')\n",
    "outcome_data = pd.read_excel('Source_data/loan_outcome_information.xlsx', sheet_name='data')"
   ]
  },
  {
   "cell_type": "markdown",
   "id": "8da87f56-8cff-40dc-a342-acba13183a22",
   "metadata": {},
   "source": [
    "### Investigating Client data"
   ]
  },
  {
   "cell_type": "code",
   "execution_count": 3,
   "id": "42672f97-721c-4096-b179-2d5530003eb1",
   "metadata": {},
   "outputs": [
    {
     "data": {
      "text/html": [
       "<div>\n",
       "<style scoped>\n",
       "    .dataframe tbody tr th:only-of-type {\n",
       "        vertical-align: middle;\n",
       "    }\n",
       "\n",
       "    .dataframe tbody tr th {\n",
       "        vertical-align: top;\n",
       "    }\n",
       "\n",
       "    .dataframe thead th {\n",
       "        text-align: right;\n",
       "    }\n",
       "</style>\n",
       "<table border=\"1\" class=\"dataframe\">\n",
       "  <thead>\n",
       "    <tr style=\"text-align: right;\">\n",
       "      <th></th>\n",
       "      <th>clientid</th>\n",
       "      <th>region</th>\n",
       "      <th>branch</th>\n",
       "      <th>client_gender</th>\n",
       "      <th>income</th>\n",
       "      <th>vehicle_production_year</th>\n",
       "      <th>vehicle_initial_assessment_value</th>\n",
       "      <th>age</th>\n",
       "      <th>had_car_loan</th>\n",
       "      <th>had_other_loans</th>\n",
       "    </tr>\n",
       "  </thead>\n",
       "  <tbody>\n",
       "    <tr>\n",
       "      <th>0</th>\n",
       "      <td>0</td>\n",
       "      <td>region 9</td>\n",
       "      <td>branch 3</td>\n",
       "      <td>male</td>\n",
       "      <td>1214</td>\n",
       "      <td>2002</td>\n",
       "      <td>9600</td>\n",
       "      <td>37.0</td>\n",
       "      <td>0</td>\n",
       "      <td>0</td>\n",
       "    </tr>\n",
       "    <tr>\n",
       "      <th>1</th>\n",
       "      <td>1</td>\n",
       "      <td>NaN</td>\n",
       "      <td>branch 3</td>\n",
       "      <td>male</td>\n",
       "      <td>0</td>\n",
       "      <td>1995</td>\n",
       "      <td>6480</td>\n",
       "      <td>36.0</td>\n",
       "      <td>0</td>\n",
       "      <td>0</td>\n",
       "    </tr>\n",
       "    <tr>\n",
       "      <th>2</th>\n",
       "      <td>2</td>\n",
       "      <td>region 2</td>\n",
       "      <td>branch 5</td>\n",
       "      <td>male</td>\n",
       "      <td>720</td>\n",
       "      <td>1999</td>\n",
       "      <td>5280</td>\n",
       "      <td>57.0</td>\n",
       "      <td>0</td>\n",
       "      <td>0</td>\n",
       "    </tr>\n",
       "    <tr>\n",
       "      <th>3</th>\n",
       "      <td>3</td>\n",
       "      <td>NaN</td>\n",
       "      <td>branch 3</td>\n",
       "      <td>female</td>\n",
       "      <td>0</td>\n",
       "      <td>2000</td>\n",
       "      <td>10560</td>\n",
       "      <td>65.0</td>\n",
       "      <td>0</td>\n",
       "      <td>0</td>\n",
       "    </tr>\n",
       "    <tr>\n",
       "      <th>4</th>\n",
       "      <td>4</td>\n",
       "      <td>region 6</td>\n",
       "      <td>branch 2</td>\n",
       "      <td>male</td>\n",
       "      <td>0</td>\n",
       "      <td>2008</td>\n",
       "      <td>7680</td>\n",
       "      <td>35.0</td>\n",
       "      <td>0</td>\n",
       "      <td>0</td>\n",
       "    </tr>\n",
       "  </tbody>\n",
       "</table>\n",
       "</div>"
      ],
      "text/plain": [
       "   clientid    region    branch client_gender  income  \\\n",
       "0         0  region 9  branch 3          male    1214   \n",
       "1         1       NaN  branch 3          male       0   \n",
       "2         2  region 2  branch 5          male     720   \n",
       "3         3       NaN  branch 3        female       0   \n",
       "4         4  region 6  branch 2          male       0   \n",
       "\n",
       "   vehicle_production_year  vehicle_initial_assessment_value   age  \\\n",
       "0                     2002                              9600  37.0   \n",
       "1                     1995                              6480  36.0   \n",
       "2                     1999                              5280  57.0   \n",
       "3                     2000                             10560  65.0   \n",
       "4                     2008                              7680  35.0   \n",
       "\n",
       "   had_car_loan  had_other_loans  \n",
       "0             0                0  \n",
       "1             0                0  \n",
       "2             0                0  \n",
       "3             0                0  \n",
       "4             0                0  "
      ]
     },
     "execution_count": 3,
     "metadata": {},
     "output_type": "execute_result"
    }
   ],
   "source": [
    "# Data overview\n",
    "client_data.head()"
   ]
  },
  {
   "cell_type": "code",
   "execution_count": 4,
   "id": "6844507c-7847-4311-b637-1f02c6e453fa",
   "metadata": {},
   "outputs": [
    {
     "name": "stdout",
     "output_type": "stream",
     "text": [
      "<class 'pandas.core.frame.DataFrame'>\n",
      "RangeIndex: 10970 entries, 0 to 10969\n",
      "Data columns (total 10 columns):\n",
      " #   Column                            Non-Null Count  Dtype  \n",
      "---  ------                            --------------  -----  \n",
      " 0   clientid                          10970 non-null  int64  \n",
      " 1   region                            9880 non-null   object \n",
      " 2   branch                            10970 non-null  object \n",
      " 3   client_gender                     10970 non-null  object \n",
      " 4   income                            10970 non-null  int64  \n",
      " 5   vehicle_production_year           10970 non-null  int64  \n",
      " 6   vehicle_initial_assessment_value  10970 non-null  int64  \n",
      " 7   age                               10948 non-null  float64\n",
      " 8   had_car_loan                      10970 non-null  int64  \n",
      " 9   had_other_loans                   10970 non-null  int64  \n",
      "dtypes: float64(1), int64(6), object(3)\n",
      "memory usage: 857.2+ KB\n"
     ]
    }
   ],
   "source": [
    "# Check for Nans and Data types\n",
    "client_data.info()"
   ]
  },
  {
   "cell_type": "markdown",
   "id": "2f61c63e-7a9b-4d59-ba2c-7942b2b90548",
   "metadata": {},
   "source": [
    "**Only column containing nans are region and age**"
   ]
  },
  {
   "cell_type": "code",
   "execution_count": 5,
   "id": "8d84eec0-f8f2-4240-8b3a-48ec050d33d5",
   "metadata": {},
   "outputs": [
    {
     "data": {
      "text/plain": [
       "clientid                            10970\n",
       "region                                 13\n",
       "branch                                  7\n",
       "client_gender                           2\n",
       "income                                383\n",
       "vehicle_production_year                35\n",
       "vehicle_initial_assessment_value      489\n",
       "age                                    58\n",
       "had_car_loan                            2\n",
       "had_other_loans                         2\n",
       "dtype: int64"
      ]
     },
     "execution_count": 5,
     "metadata": {},
     "output_type": "execute_result"
    }
   ],
   "source": [
    "# Checking unique values\n",
    "client_data.apply(lambda x: len(x.unique()))"
   ]
  },
  {
   "cell_type": "markdown",
   "id": "32eabf30-e9e1-4280-a679-edc4deaf9373",
   "metadata": {},
   "source": [
    "**Both region and benach, cateogorical data, have not many unique values, so we can use One hot enocoding for them**"
   ]
  },
  {
   "cell_type": "code",
   "execution_count": 6,
   "id": "7dcd705d-c271-4e6b-ab75-af7217515525",
   "metadata": {},
   "outputs": [],
   "source": [
    "# Making new value for Unknown regions\n",
    "client_data['region'] = client_data['region'].fillna('Unknown')"
   ]
  },
  {
   "cell_type": "code",
   "execution_count": 7,
   "id": "5a3bbccd-e4c4-4daa-9ed5-8f49046b5ec4",
   "metadata": {},
   "outputs": [
    {
     "data": {
      "text/plain": [
       "0.20054694621695535"
      ]
     },
     "execution_count": 7,
     "metadata": {},
     "output_type": "execute_result"
    }
   ],
   "source": [
    "client_data['age'].isnull().sum() * 100 / len(client_data)"
   ]
  },
  {
   "cell_type": "markdown",
   "id": "3c0ca36f-2e64-46e5-92d0-707341daced9",
   "metadata": {},
   "source": [
    "**As onlu 0.2% of age data contains nulls, let's replace them with mode**"
   ]
  },
  {
   "cell_type": "code",
   "execution_count": 8,
   "id": "96ffaa47-b38e-4cdb-a3bf-d6f792a33b23",
   "metadata": {},
   "outputs": [],
   "source": [
    "client_data['age'] = client_data['age'].fillna(client_data['age'].mode().iloc[0])"
   ]
  },
  {
   "cell_type": "markdown",
   "id": "971d4ad5-7f38-405c-95cc-492025850d3e",
   "metadata": {},
   "source": [
    "### Investingeting Loan data"
   ]
  },
  {
   "cell_type": "code",
   "execution_count": 9,
   "id": "4119380c-f05d-45e5-882d-e597203a6199",
   "metadata": {},
   "outputs": [
    {
     "data": {
      "text/html": [
       "<div>\n",
       "<style scoped>\n",
       "    .dataframe tbody tr th:only-of-type {\n",
       "        vertical-align: middle;\n",
       "    }\n",
       "\n",
       "    .dataframe tbody tr th {\n",
       "        vertical-align: top;\n",
       "    }\n",
       "\n",
       "    .dataframe thead th {\n",
       "        text-align: right;\n",
       "    }\n",
       "</style>\n",
       "<table border=\"1\" class=\"dataframe\">\n",
       "  <thead>\n",
       "    <tr style=\"text-align: right;\">\n",
       "      <th></th>\n",
       "      <th>clientid</th>\n",
       "      <th>loan_type</th>\n",
       "      <th>loan_initial_term</th>\n",
       "      <th>loan_initial_amount</th>\n",
       "      <th>loan_to_value_ratio</th>\n",
       "      <th>annual_percentage_rate</th>\n",
       "      <th>monthly_interest_rate</th>\n",
       "    </tr>\n",
       "  </thead>\n",
       "  <tbody>\n",
       "    <tr>\n",
       "      <th>0</th>\n",
       "      <td>0</td>\n",
       "      <td>leaseback</td>\n",
       "      <td>36</td>\n",
       "      <td>1920</td>\n",
       "      <td>0.200000</td>\n",
       "      <td>35.875763</td>\n",
       "      <td>3.374</td>\n",
       "    </tr>\n",
       "    <tr>\n",
       "      <th>1</th>\n",
       "      <td>1</td>\n",
       "      <td>leaseback</td>\n",
       "      <td>54</td>\n",
       "      <td>5040</td>\n",
       "      <td>0.777778</td>\n",
       "      <td>36.079749</td>\n",
       "      <td>3.374</td>\n",
       "    </tr>\n",
       "    <tr>\n",
       "      <th>2</th>\n",
       "      <td>2</td>\n",
       "      <td>leasing</td>\n",
       "      <td>18</td>\n",
       "      <td>2400</td>\n",
       "      <td>0.454545</td>\n",
       "      <td>42.292028</td>\n",
       "      <td>3.374</td>\n",
       "    </tr>\n",
       "    <tr>\n",
       "      <th>3</th>\n",
       "      <td>3</td>\n",
       "      <td>leaseback</td>\n",
       "      <td>36</td>\n",
       "      <td>9360</td>\n",
       "      <td>0.886364</td>\n",
       "      <td>35.580055</td>\n",
       "      <td>3.374</td>\n",
       "    </tr>\n",
       "    <tr>\n",
       "      <th>4</th>\n",
       "      <td>4</td>\n",
       "      <td>leasing</td>\n",
       "      <td>54</td>\n",
       "      <td>5760</td>\n",
       "      <td>0.750000</td>\n",
       "      <td>37.090166</td>\n",
       "      <td>3.374</td>\n",
       "    </tr>\n",
       "  </tbody>\n",
       "</table>\n",
       "</div>"
      ],
      "text/plain": [
       "   clientid  loan_type  loan_initial_term  loan_initial_amount  \\\n",
       "0         0  leaseback                 36                 1920   \n",
       "1         1  leaseback                 54                 5040   \n",
       "2         2    leasing                 18                 2400   \n",
       "3         3  leaseback                 36                 9360   \n",
       "4         4    leasing                 54                 5760   \n",
       "\n",
       "   loan_to_value_ratio  annual_percentage_rate  monthly_interest_rate  \n",
       "0             0.200000               35.875763                  3.374  \n",
       "1             0.777778               36.079749                  3.374  \n",
       "2             0.454545               42.292028                  3.374  \n",
       "3             0.886364               35.580055                  3.374  \n",
       "4             0.750000               37.090166                  3.374  "
      ]
     },
     "execution_count": 9,
     "metadata": {},
     "output_type": "execute_result"
    }
   ],
   "source": [
    "# Data overview\n",
    "loan_data.head()"
   ]
  },
  {
   "cell_type": "code",
   "execution_count": 10,
   "id": "d8cfed59-f3de-4f92-9f4b-6a5796508f10",
   "metadata": {},
   "outputs": [
    {
     "name": "stdout",
     "output_type": "stream",
     "text": [
      "<class 'pandas.core.frame.DataFrame'>\n",
      "RangeIndex: 10970 entries, 0 to 10969\n",
      "Data columns (total 7 columns):\n",
      " #   Column                  Non-Null Count  Dtype  \n",
      "---  ------                  --------------  -----  \n",
      " 0   clientid                10970 non-null  int64  \n",
      " 1   loan_type               10970 non-null  object \n",
      " 2   loan_initial_term       10970 non-null  int64  \n",
      " 3   loan_initial_amount     10970 non-null  int64  \n",
      " 4   loan_to_value_ratio     10970 non-null  float64\n",
      " 5   annual_percentage_rate  10970 non-null  float64\n",
      " 6   monthly_interest_rate   10970 non-null  float64\n",
      "dtypes: float64(3), int64(3), object(1)\n",
      "memory usage: 600.1+ KB\n"
     ]
    }
   ],
   "source": [
    "# Cheking for Nans and data types\n",
    "loan_data.info()"
   ]
  },
  {
   "cell_type": "code",
   "execution_count": 11,
   "id": "46f6b68a-fe29-49f0-a670-c5762d6a403b",
   "metadata": {},
   "outputs": [
    {
     "data": {
      "text/plain": [
       "clientid                  10970\n",
       "loan_type                     2\n",
       "loan_initial_term            35\n",
       "loan_initial_amount         232\n",
       "loan_to_value_ratio        1120\n",
       "annual_percentage_rate     7182\n",
       "monthly_interest_rate         3\n",
       "dtype: int64"
      ]
     },
     "execution_count": 11,
     "metadata": {},
     "output_type": "execute_result"
    }
   ],
   "source": [
    "# Checking unique values\n",
    "loan_data.apply(lambda x: len(x.unique()))"
   ]
  },
  {
   "cell_type": "markdown",
   "id": "557ceafc-edfb-4f12-bcc2-eda733b51edc",
   "metadata": {},
   "source": [
    "**For cateforical variables, also can be used One hot encoding**"
   ]
  },
  {
   "cell_type": "markdown",
   "id": "29838607-ba57-4663-b298-8abfca7954b2",
   "metadata": {},
   "source": [
    "### Investigateing Outcome data"
   ]
  },
  {
   "cell_type": "code",
   "execution_count": 12,
   "id": "cb0ca7b8-68de-4533-9a40-c6004b0d943b",
   "metadata": {},
   "outputs": [
    {
     "data": {
      "text/html": [
       "<div>\n",
       "<style scoped>\n",
       "    .dataframe tbody tr th:only-of-type {\n",
       "        vertical-align: middle;\n",
       "    }\n",
       "\n",
       "    .dataframe tbody tr th {\n",
       "        vertical-align: top;\n",
       "    }\n",
       "\n",
       "    .dataframe thead th {\n",
       "        text-align: right;\n",
       "    }\n",
       "</style>\n",
       "<table border=\"1\" class=\"dataframe\">\n",
       "  <thead>\n",
       "    <tr style=\"text-align: right;\">\n",
       "      <th></th>\n",
       "      <th>clientid</th>\n",
       "      <th>client_type</th>\n",
       "      <th>ratio</th>\n",
       "    </tr>\n",
       "  </thead>\n",
       "  <tbody>\n",
       "    <tr>\n",
       "      <th>0</th>\n",
       "      <td>0</td>\n",
       "      <td>default</td>\n",
       "      <td>1.166667</td>\n",
       "    </tr>\n",
       "    <tr>\n",
       "      <th>1</th>\n",
       "      <td>1</td>\n",
       "      <td>default</td>\n",
       "      <td>1.027778</td>\n",
       "    </tr>\n",
       "    <tr>\n",
       "      <th>2</th>\n",
       "      <td>2</td>\n",
       "      <td>default</td>\n",
       "      <td>0.916667</td>\n",
       "    </tr>\n",
       "    <tr>\n",
       "      <th>3</th>\n",
       "      <td>3</td>\n",
       "      <td>default</td>\n",
       "      <td>0.916667</td>\n",
       "    </tr>\n",
       "    <tr>\n",
       "      <th>4</th>\n",
       "      <td>4</td>\n",
       "      <td>default</td>\n",
       "      <td>0.888889</td>\n",
       "    </tr>\n",
       "  </tbody>\n",
       "</table>\n",
       "</div>"
      ],
      "text/plain": [
       "   clientid client_type     ratio\n",
       "0         0     default  1.166667\n",
       "1         1     default  1.027778\n",
       "2         2     default  0.916667\n",
       "3         3     default  0.916667\n",
       "4         4     default  0.888889"
      ]
     },
     "execution_count": 12,
     "metadata": {},
     "output_type": "execute_result"
    }
   ],
   "source": [
    "# Data overview\n",
    "outcome_data.head()"
   ]
  },
  {
   "cell_type": "code",
   "execution_count": 13,
   "id": "d437ce93-dc40-49ef-a104-a9a999aecc49",
   "metadata": {},
   "outputs": [
    {
     "name": "stdout",
     "output_type": "stream",
     "text": [
      "<class 'pandas.core.frame.DataFrame'>\n",
      "RangeIndex: 10970 entries, 0 to 10969\n",
      "Data columns (total 3 columns):\n",
      " #   Column       Non-Null Count  Dtype  \n",
      "---  ------       --------------  -----  \n",
      " 0   clientid     10970 non-null  int64  \n",
      " 1   client_type  10970 non-null  object \n",
      " 2   ratio        8389 non-null   float64\n",
      "dtypes: float64(1), int64(1), object(1)\n",
      "memory usage: 257.2+ KB\n"
     ]
    }
   ],
   "source": [
    "# Cheking for Nans and data types\n",
    "outcome_data.info()"
   ]
  },
  {
   "cell_type": "markdown",
   "id": "d4afdea0-9256-4ffa-9c81-739ca0cb411e",
   "metadata": {},
   "source": [
    "**Numerical ratio variable do have Nans, so should be chosen either to impute data or remove that samples**"
   ]
  },
  {
   "cell_type": "code",
   "execution_count": 14,
   "id": "a3bf1117-497f-414d-8afc-f24b8d7b9a73",
   "metadata": {},
   "outputs": [],
   "source": [
    "# Getheriing all data together (by ID column)\n",
    "\n",
    "data_interim = pd.merge(client_data, loan_data)\n",
    "data = pd.merge(data_interim, outcome_data)"
   ]
  },
  {
   "cell_type": "code",
   "execution_count": 15,
   "id": "78a8ac87-433d-493d-9426-a98a4647d1f4",
   "metadata": {},
   "outputs": [
    {
     "data": {
      "text/html": [
       "<div>\n",
       "<style scoped>\n",
       "    .dataframe tbody tr th:only-of-type {\n",
       "        vertical-align: middle;\n",
       "    }\n",
       "\n",
       "    .dataframe tbody tr th {\n",
       "        vertical-align: top;\n",
       "    }\n",
       "\n",
       "    .dataframe thead th {\n",
       "        text-align: right;\n",
       "    }\n",
       "</style>\n",
       "<table border=\"1\" class=\"dataframe\">\n",
       "  <thead>\n",
       "    <tr style=\"text-align: right;\">\n",
       "      <th></th>\n",
       "      <th>clientid</th>\n",
       "      <th>region</th>\n",
       "      <th>branch</th>\n",
       "      <th>client_gender</th>\n",
       "      <th>income</th>\n",
       "      <th>vehicle_production_year</th>\n",
       "      <th>vehicle_initial_assessment_value</th>\n",
       "      <th>age</th>\n",
       "      <th>had_car_loan</th>\n",
       "      <th>had_other_loans</th>\n",
       "      <th>loan_type</th>\n",
       "      <th>loan_initial_term</th>\n",
       "      <th>loan_initial_amount</th>\n",
       "      <th>loan_to_value_ratio</th>\n",
       "      <th>annual_percentage_rate</th>\n",
       "      <th>monthly_interest_rate</th>\n",
       "      <th>client_type</th>\n",
       "      <th>ratio</th>\n",
       "    </tr>\n",
       "  </thead>\n",
       "  <tbody>\n",
       "    <tr>\n",
       "      <th>0</th>\n",
       "      <td>0</td>\n",
       "      <td>region 9</td>\n",
       "      <td>branch 3</td>\n",
       "      <td>male</td>\n",
       "      <td>1214</td>\n",
       "      <td>2002</td>\n",
       "      <td>9600</td>\n",
       "      <td>37.0</td>\n",
       "      <td>0</td>\n",
       "      <td>0</td>\n",
       "      <td>leaseback</td>\n",
       "      <td>36</td>\n",
       "      <td>1920</td>\n",
       "      <td>0.200000</td>\n",
       "      <td>35.875763</td>\n",
       "      <td>3.374</td>\n",
       "      <td>default</td>\n",
       "      <td>1.166667</td>\n",
       "    </tr>\n",
       "    <tr>\n",
       "      <th>1</th>\n",
       "      <td>1</td>\n",
       "      <td>Unknown</td>\n",
       "      <td>branch 3</td>\n",
       "      <td>male</td>\n",
       "      <td>0</td>\n",
       "      <td>1995</td>\n",
       "      <td>6480</td>\n",
       "      <td>36.0</td>\n",
       "      <td>0</td>\n",
       "      <td>0</td>\n",
       "      <td>leaseback</td>\n",
       "      <td>54</td>\n",
       "      <td>5040</td>\n",
       "      <td>0.777778</td>\n",
       "      <td>36.079749</td>\n",
       "      <td>3.374</td>\n",
       "      <td>default</td>\n",
       "      <td>1.027778</td>\n",
       "    </tr>\n",
       "    <tr>\n",
       "      <th>2</th>\n",
       "      <td>2</td>\n",
       "      <td>region 2</td>\n",
       "      <td>branch 5</td>\n",
       "      <td>male</td>\n",
       "      <td>720</td>\n",
       "      <td>1999</td>\n",
       "      <td>5280</td>\n",
       "      <td>57.0</td>\n",
       "      <td>0</td>\n",
       "      <td>0</td>\n",
       "      <td>leasing</td>\n",
       "      <td>18</td>\n",
       "      <td>2400</td>\n",
       "      <td>0.454545</td>\n",
       "      <td>42.292028</td>\n",
       "      <td>3.374</td>\n",
       "      <td>default</td>\n",
       "      <td>0.916667</td>\n",
       "    </tr>\n",
       "    <tr>\n",
       "      <th>3</th>\n",
       "      <td>3</td>\n",
       "      <td>Unknown</td>\n",
       "      <td>branch 3</td>\n",
       "      <td>female</td>\n",
       "      <td>0</td>\n",
       "      <td>2000</td>\n",
       "      <td>10560</td>\n",
       "      <td>65.0</td>\n",
       "      <td>0</td>\n",
       "      <td>0</td>\n",
       "      <td>leaseback</td>\n",
       "      <td>36</td>\n",
       "      <td>9360</td>\n",
       "      <td>0.886364</td>\n",
       "      <td>35.580055</td>\n",
       "      <td>3.374</td>\n",
       "      <td>default</td>\n",
       "      <td>0.916667</td>\n",
       "    </tr>\n",
       "    <tr>\n",
       "      <th>4</th>\n",
       "      <td>4</td>\n",
       "      <td>region 6</td>\n",
       "      <td>branch 2</td>\n",
       "      <td>male</td>\n",
       "      <td>0</td>\n",
       "      <td>2008</td>\n",
       "      <td>7680</td>\n",
       "      <td>35.0</td>\n",
       "      <td>0</td>\n",
       "      <td>0</td>\n",
       "      <td>leasing</td>\n",
       "      <td>54</td>\n",
       "      <td>5760</td>\n",
       "      <td>0.750000</td>\n",
       "      <td>37.090166</td>\n",
       "      <td>3.374</td>\n",
       "      <td>default</td>\n",
       "      <td>0.888889</td>\n",
       "    </tr>\n",
       "  </tbody>\n",
       "</table>\n",
       "</div>"
      ],
      "text/plain": [
       "   clientid    region    branch client_gender  income  \\\n",
       "0         0  region 9  branch 3          male    1214   \n",
       "1         1   Unknown  branch 3          male       0   \n",
       "2         2  region 2  branch 5          male     720   \n",
       "3         3   Unknown  branch 3        female       0   \n",
       "4         4  region 6  branch 2          male       0   \n",
       "\n",
       "   vehicle_production_year  vehicle_initial_assessment_value   age  \\\n",
       "0                     2002                              9600  37.0   \n",
       "1                     1995                              6480  36.0   \n",
       "2                     1999                              5280  57.0   \n",
       "3                     2000                             10560  65.0   \n",
       "4                     2008                              7680  35.0   \n",
       "\n",
       "   had_car_loan  had_other_loans  loan_type  loan_initial_term  \\\n",
       "0             0                0  leaseback                 36   \n",
       "1             0                0  leaseback                 54   \n",
       "2             0                0    leasing                 18   \n",
       "3             0                0  leaseback                 36   \n",
       "4             0                0    leasing                 54   \n",
       "\n",
       "   loan_initial_amount  loan_to_value_ratio  annual_percentage_rate  \\\n",
       "0                 1920             0.200000               35.875763   \n",
       "1                 5040             0.777778               36.079749   \n",
       "2                 2400             0.454545               42.292028   \n",
       "3                 9360             0.886364               35.580055   \n",
       "4                 5760             0.750000               37.090166   \n",
       "\n",
       "   monthly_interest_rate client_type     ratio  \n",
       "0                  3.374     default  1.166667  \n",
       "1                  3.374     default  1.027778  \n",
       "2                  3.374     default  0.916667  \n",
       "3                  3.374     default  0.916667  \n",
       "4                  3.374     default  0.888889  "
      ]
     },
     "execution_count": 15,
     "metadata": {},
     "output_type": "execute_result"
    }
   ],
   "source": [
    "data.head()"
   ]
  },
  {
   "cell_type": "code",
   "execution_count": 16,
   "id": "27408f2b-ced8-435d-acdb-d9e0a3711e8f",
   "metadata": {},
   "outputs": [],
   "source": [
    "data.to_csv('Derived_data/Data_processed.csv', index = False)"
   ]
  },
  {
   "cell_type": "code",
   "execution_count": null,
   "id": "b9c578b1-3443-47e4-89c5-cf45808dc873",
   "metadata": {},
   "outputs": [],
   "source": []
  }
 ],
 "metadata": {
  "kernelspec": {
   "display_name": "venv_civ",
   "language": "python",
   "name": "venv_civ"
  },
  "language_info": {
   "codemirror_mode": {
    "name": "ipython",
    "version": 3
   },
   "file_extension": ".py",
   "mimetype": "text/x-python",
   "name": "python",
   "nbconvert_exporter": "python",
   "pygments_lexer": "ipython3",
   "version": "3.12.3"
  }
 },
 "nbformat": 4,
 "nbformat_minor": 5
}
