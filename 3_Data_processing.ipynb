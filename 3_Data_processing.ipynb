{
 "cells": [
  {
   "cell_type": "code",
   "execution_count": 5,
   "id": "abeead8e-7a90-4d28-b4b7-a0f97bdea8ab",
   "metadata": {},
   "outputs": [],
   "source": [
    "# Importing Libraries\n",
    "import pandas as pd\n",
    "import numpy as np"
   ]
  },
  {
   "cell_type": "code",
   "execution_count": 6,
   "id": "f573c8b6-f8e6-425c-89f9-0430b2fa1334",
   "metadata": {},
   "outputs": [],
   "source": [
    "# Reading data\n",
    "data =pd.read_csv('Derived_data/Data_processed.csv')"
   ]
  },
  {
   "cell_type": "code",
   "execution_count": 7,
   "id": "5c88ab08-c718-4891-b44d-61f092ec585f",
   "metadata": {},
   "outputs": [
    {
     "data": {
      "text/html": [
       "<div>\n",
       "<style scoped>\n",
       "    .dataframe tbody tr th:only-of-type {\n",
       "        vertical-align: middle;\n",
       "    }\n",
       "\n",
       "    .dataframe tbody tr th {\n",
       "        vertical-align: top;\n",
       "    }\n",
       "\n",
       "    .dataframe thead th {\n",
       "        text-align: right;\n",
       "    }\n",
       "</style>\n",
       "<table border=\"1\" class=\"dataframe\">\n",
       "  <thead>\n",
       "    <tr style=\"text-align: right;\">\n",
       "      <th></th>\n",
       "      <th>clientid</th>\n",
       "      <th>region</th>\n",
       "      <th>branch</th>\n",
       "      <th>client_gender</th>\n",
       "      <th>income</th>\n",
       "      <th>vehicle_production_year</th>\n",
       "      <th>vehicle_initial_assessment_value</th>\n",
       "      <th>age</th>\n",
       "      <th>had_car_loan</th>\n",
       "      <th>had_other_loans</th>\n",
       "      <th>loan_type</th>\n",
       "      <th>loan_initial_term</th>\n",
       "      <th>loan_initial_amount</th>\n",
       "      <th>loan_to_value_ratio</th>\n",
       "      <th>annual_percentage_rate</th>\n",
       "      <th>monthly_interest_rate</th>\n",
       "      <th>client_type</th>\n",
       "      <th>ratio</th>\n",
       "    </tr>\n",
       "  </thead>\n",
       "  <tbody>\n",
       "    <tr>\n",
       "      <th>0</th>\n",
       "      <td>0</td>\n",
       "      <td>region 9</td>\n",
       "      <td>branch 3</td>\n",
       "      <td>male</td>\n",
       "      <td>1214</td>\n",
       "      <td>2002</td>\n",
       "      <td>9600</td>\n",
       "      <td>37.0</td>\n",
       "      <td>0</td>\n",
       "      <td>0</td>\n",
       "      <td>leaseback</td>\n",
       "      <td>36</td>\n",
       "      <td>1920</td>\n",
       "      <td>0.200000</td>\n",
       "      <td>35.875763</td>\n",
       "      <td>3.374</td>\n",
       "      <td>default</td>\n",
       "      <td>1.166667</td>\n",
       "    </tr>\n",
       "    <tr>\n",
       "      <th>1</th>\n",
       "      <td>1</td>\n",
       "      <td>Unknown</td>\n",
       "      <td>branch 3</td>\n",
       "      <td>male</td>\n",
       "      <td>0</td>\n",
       "      <td>1995</td>\n",
       "      <td>6480</td>\n",
       "      <td>36.0</td>\n",
       "      <td>0</td>\n",
       "      <td>0</td>\n",
       "      <td>leaseback</td>\n",
       "      <td>54</td>\n",
       "      <td>5040</td>\n",
       "      <td>0.777778</td>\n",
       "      <td>36.079749</td>\n",
       "      <td>3.374</td>\n",
       "      <td>default</td>\n",
       "      <td>1.027778</td>\n",
       "    </tr>\n",
       "    <tr>\n",
       "      <th>2</th>\n",
       "      <td>2</td>\n",
       "      <td>region 2</td>\n",
       "      <td>branch 5</td>\n",
       "      <td>male</td>\n",
       "      <td>720</td>\n",
       "      <td>1999</td>\n",
       "      <td>5280</td>\n",
       "      <td>57.0</td>\n",
       "      <td>0</td>\n",
       "      <td>0</td>\n",
       "      <td>leasing</td>\n",
       "      <td>18</td>\n",
       "      <td>2400</td>\n",
       "      <td>0.454545</td>\n",
       "      <td>42.292028</td>\n",
       "      <td>3.374</td>\n",
       "      <td>default</td>\n",
       "      <td>0.916667</td>\n",
       "    </tr>\n",
       "    <tr>\n",
       "      <th>3</th>\n",
       "      <td>3</td>\n",
       "      <td>Unknown</td>\n",
       "      <td>branch 3</td>\n",
       "      <td>female</td>\n",
       "      <td>0</td>\n",
       "      <td>2000</td>\n",
       "      <td>10560</td>\n",
       "      <td>65.0</td>\n",
       "      <td>0</td>\n",
       "      <td>0</td>\n",
       "      <td>leaseback</td>\n",
       "      <td>36</td>\n",
       "      <td>9360</td>\n",
       "      <td>0.886364</td>\n",
       "      <td>35.580055</td>\n",
       "      <td>3.374</td>\n",
       "      <td>default</td>\n",
       "      <td>0.916667</td>\n",
       "    </tr>\n",
       "    <tr>\n",
       "      <th>4</th>\n",
       "      <td>4</td>\n",
       "      <td>region 6</td>\n",
       "      <td>branch 2</td>\n",
       "      <td>male</td>\n",
       "      <td>0</td>\n",
       "      <td>2008</td>\n",
       "      <td>7680</td>\n",
       "      <td>35.0</td>\n",
       "      <td>0</td>\n",
       "      <td>0</td>\n",
       "      <td>leasing</td>\n",
       "      <td>54</td>\n",
       "      <td>5760</td>\n",
       "      <td>0.750000</td>\n",
       "      <td>37.090166</td>\n",
       "      <td>3.374</td>\n",
       "      <td>default</td>\n",
       "      <td>0.888889</td>\n",
       "    </tr>\n",
       "  </tbody>\n",
       "</table>\n",
       "</div>"
      ],
      "text/plain": [
       "   clientid    region    branch client_gender  income  \\\n",
       "0         0  region 9  branch 3          male    1214   \n",
       "1         1   Unknown  branch 3          male       0   \n",
       "2         2  region 2  branch 5          male     720   \n",
       "3         3   Unknown  branch 3        female       0   \n",
       "4         4  region 6  branch 2          male       0   \n",
       "\n",
       "   vehicle_production_year  vehicle_initial_assessment_value   age  \\\n",
       "0                     2002                              9600  37.0   \n",
       "1                     1995                              6480  36.0   \n",
       "2                     1999                              5280  57.0   \n",
       "3                     2000                             10560  65.0   \n",
       "4                     2008                              7680  35.0   \n",
       "\n",
       "   had_car_loan  had_other_loans  loan_type  loan_initial_term  \\\n",
       "0             0                0  leaseback                 36   \n",
       "1             0                0  leaseback                 54   \n",
       "2             0                0    leasing                 18   \n",
       "3             0                0  leaseback                 36   \n",
       "4             0                0    leasing                 54   \n",
       "\n",
       "   loan_initial_amount  loan_to_value_ratio  annual_percentage_rate  \\\n",
       "0                 1920             0.200000               35.875763   \n",
       "1                 5040             0.777778               36.079749   \n",
       "2                 2400             0.454545               42.292028   \n",
       "3                 9360             0.886364               35.580055   \n",
       "4                 5760             0.750000               37.090166   \n",
       "\n",
       "   monthly_interest_rate client_type     ratio  \n",
       "0                  3.374     default  1.166667  \n",
       "1                  3.374     default  1.027778  \n",
       "2                  3.374     default  0.916667  \n",
       "3                  3.374     default  0.916667  \n",
       "4                  3.374     default  0.888889  "
      ]
     },
     "execution_count": 7,
     "metadata": {},
     "output_type": "execute_result"
    }
   ],
   "source": [
    "# Data overview\n",
    "data.head()"
   ]
  },
  {
   "cell_type": "code",
   "execution_count": 8,
   "id": "e11e1f40-d595-4bbf-bf3f-d64ad886291d",
   "metadata": {},
   "outputs": [],
   "source": [
    "# Dummy variables from regions\n",
    "data = pd.get_dummies(data=data, columns=['region'], dtype=int).drop(columns= 'region_Unknown')"
   ]
  },
  {
   "cell_type": "code",
   "execution_count": 9,
   "id": "f0952131-d1f5-424d-8c6c-fdd3897ab996",
   "metadata": {},
   "outputs": [],
   "source": [
    "# Dummy variables from branches\n",
    "data = pd.get_dummies(data = data, columns=['branch'], drop_first=True, dtype=int)"
   ]
  },
  {
   "cell_type": "code",
   "execution_count": 10,
   "id": "29d4d296-0151-4dcc-8a99-25a6be126046",
   "metadata": {},
   "outputs": [],
   "source": [
    "genders = {'male' : 1, 'female' : 0}\n",
    "loan_types = {'leaseback' : 0, 'leasing' : 1}"
   ]
  },
  {
   "cell_type": "code",
   "execution_count": 11,
   "id": "d931a346-bf82-43db-91b8-eb84e4a23a7b",
   "metadata": {},
   "outputs": [],
   "source": [
    "# Binary variables for gender and loan type\n",
    "data['client_gender'] = data['client_gender'].map(genders)\n",
    "data['loan_type'] = data['loan_type'].map(loan_types)\n"
   ]
  },
  {
   "cell_type": "code",
   "execution_count": 12,
   "id": "cddb6d02-1c71-4742-8414-1dd25078c3b0",
   "metadata": {},
   "outputs": [],
   "source": [
    "# Target variable\n",
    "data['default_status'] = (data['client_type'] == 'default').astype(int)"
   ]
  },
  {
   "cell_type": "code",
   "execution_count": 13,
   "id": "28fc03d3-e848-4015-9f11-12b971d1aac6",
   "metadata": {},
   "outputs": [],
   "source": [
    "# Log transformations\n",
    "data['log_income'] = [x if x == 0 else np.log(x) \n",
    "                        for x in data['income']]"
   ]
  },
  {
   "cell_type": "code",
   "execution_count": 14,
   "id": "357aa7db-a54e-49c4-9b6f-4f82fcf331d3",
   "metadata": {},
   "outputs": [],
   "source": [
    "data['log_vehical_value'] = [x if x == 0 else np.log(x) \n",
    "                        for x in data['vehicle_initial_assessment_value']]"
   ]
  },
  {
   "cell_type": "code",
   "execution_count": 15,
   "id": "747988b3-2e28-4f19-b04d-0adaa5326537",
   "metadata": {},
   "outputs": [],
   "source": [
    "data['log_loan_amount'] = [x if x == 0 else np.log(x) \n",
    "                        for x in data['loan_initial_amount']]"
   ]
  },
  {
   "cell_type": "code",
   "execution_count": 16,
   "id": "a4ff48a9-0a14-42f6-9969-50dd71b72d87",
   "metadata": {},
   "outputs": [],
   "source": [
    "cols_to_take = ['client_gender', 'vehicle_production_year',\n",
    "       'age', 'had_car_loan', 'had_other_loans', 'loan_type', 'loan_initial_term',\n",
    "       'loan_to_value_ratio', 'annual_percentage_rate',\n",
    "       'monthly_interest_rate', 'region_region 1',\n",
    "       'region_region 10', 'region_region 11', 'region_region 12',\n",
    "       'region_region 2', 'region_region 3', 'region_region 4',\n",
    "       'region_region 5', 'region_region 6', 'region_region 7',\n",
    "       'region_region 8', 'region_region 9', 'branch_branch 2',\n",
    "       'branch_branch 3', 'branch_branch 4', 'branch_branch 5',\n",
    "       'branch_branch 6', 'branch_branch 7', 'default_status', 'log_income',\n",
    "       'log_vehical_value', 'log_loan_amount']"
   ]
  },
  {
   "cell_type": "code",
   "execution_count": 17,
   "id": "ce0c682e-38d5-4638-942c-cc63c5ad3ab9",
   "metadata": {},
   "outputs": [],
   "source": [
    "# taking features and target for models\n",
    "data_for_model = data[cols_to_take]"
   ]
  },
  {
   "cell_type": "code",
   "execution_count": 20,
   "id": "fd5bf402-612d-473f-a0d6-5a801fea3911",
   "metadata": {},
   "outputs": [],
   "source": [
    "data_for_model.to_csv('Derived_data/Data_model.csv', index = False)"
   ]
  },
  {
   "cell_type": "code",
   "execution_count": null,
   "id": "30c21483-ef78-42c2-9d6a-5af815bade81",
   "metadata": {},
   "outputs": [],
   "source": []
  },
  {
   "cell_type": "code",
   "execution_count": null,
   "id": "49cb9cf3-f711-4d9a-b048-7e5d99f442bc",
   "metadata": {},
   "outputs": [],
   "source": []
  }
 ],
 "metadata": {
  "kernelspec": {
   "display_name": "venv_civ",
   "language": "python",
   "name": "venv_civ"
  },
  "language_info": {
   "codemirror_mode": {
    "name": "ipython",
    "version": 3
   },
   "file_extension": ".py",
   "mimetype": "text/x-python",
   "name": "python",
   "nbconvert_exporter": "python",
   "pygments_lexer": "ipython3",
   "version": "3.12.3"
  }
 },
 "nbformat": 4,
 "nbformat_minor": 5
}
